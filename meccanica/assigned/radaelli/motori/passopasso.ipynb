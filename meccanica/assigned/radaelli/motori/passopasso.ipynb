{
 "cells": [
  {
   "cell_type": "markdown",
   "metadata": {
    "nbgrader": {
     "grade": false,
     "locked": false,
     "solution": false
    }
   },
   "source": [
    "# Esercizi per casa"
   ]
  },
  {
   "cell_type": "markdown",
   "metadata": {},
   "source": [
    "## Addizione\n",
    "#### Fai la somma dei seguenti numeri:"
   ]
  },
  {
   "cell_type": "markdown",
   "metadata": {
    "collapsed": true,
    "nbgrader": {
     "grade": true,
     "grade_id": "somma",
     "locked": false,
     "points": 3,
     "solution": true
    }
   },
   "source": [
    "2+2=?"
   ]
  },
  {
   "cell_type": "markdown",
   "metadata": {},
   "source": [
    "## Sottrazione\n",
    "#### Fai la differenza tra i seguenti numeri:"
   ]
  },
  {
   "cell_type": "markdown",
   "metadata": {
    "nbgrader": {
     "grade": true,
     "grade_id": "sottrazione",
     "locked": false,
     "points": 4,
     "solution": true
    }
   },
   "source": [
    "4-3=?"
   ]
  },
  {
   "cell_type": "markdown",
   "metadata": {},
   "source": [
    "## Moltiplicazione - autograded - answer\n",
    "#### scrivi una funzione che fa il prodotto"
   ]
  },
  {
   "cell_type": "code",
   "execution_count": 13,
   "metadata": {
    "collapsed": false,
    "nbgrader": {
     "grade": false,
     "grade_id": "moltiplicazione",
     "locked": false,
     "solution": true
    }
   },
   "outputs": [],
   "source": [
    "def moltiplicazione(a,b):\n",
    "    \"\"\"Questa funzione deve restituire il prodotto tra due numeri\"\"\"\n",
    "    \n",
    "    \n",
    "    ###begin solution\n",
    "    if a==0 or b==0:\n",
    "        raise ValueError(\"neither a nor b must be 0\")\n",
    "    return a*b\n",
    "    ###end solution"
   ]
  },
  {
   "cell_type": "markdown",
   "metadata": {},
   "source": [
    "## Divisione - autograded - test\n",
    "#### Quanto fa 6/3?"
   ]
  },
  {
   "cell_type": "code",
   "execution_count": 15,
   "metadata": {
    "collapsed": true,
    "nbgrader": {
     "grade": true,
     "grade_id": "divisione",
     "locked": true,
     "points": 4,
     "solution": false
    }
   },
   "outputs": [],
   "source": [
    "from nose.tools import assert_equal\n",
    "\n",
    "def divisione(a,b):\n",
    "    ###begin solution\n",
    "    return a/b\n",
    "    ###end solution\n",
    "    \n",
    "assert_equal(divisione(6,3),2)"
   ]
  },
  {
   "cell_type": "code",
   "execution_count": null,
   "metadata": {
    "collapsed": true
   },
   "outputs": [],
   "source": []
  }
 ],
 "metadata": {
  "celltoolbar": "Create Assignment",
  "kernelspec": {
   "display_name": "Python 3",
   "language": "python",
   "name": "python3"
  },
  "language_info": {
   "codemirror_mode": {
    "name": "ipython",
    "version": 3
   },
   "file_extension": ".py",
   "mimetype": "text/x-python",
   "name": "python",
   "nbconvert_exporter": "python",
   "pygments_lexer": "ipython3",
   "version": "3.4.3"
  }
 },
 "nbformat": 4,
 "nbformat_minor": 0
}
